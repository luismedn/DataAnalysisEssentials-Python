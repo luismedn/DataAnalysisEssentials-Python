{
 "cells": [
  {
   "cell_type": "markdown",
   "id": "d139a1fc",
   "metadata": {},
   "source": [
    "# Reading Data from CSV"
   ]
  },
  {
   "cell_type": "code",
   "execution_count": null,
   "id": "f91568d7",
   "metadata": {},
   "outputs": [],
   "source": [
    "import pandas as pd"
   ]
  },
  {
   "cell_type": "markdown",
   "id": "d43a54b9",
   "metadata": {},
   "source": [
    "## Load data from a CSV file"
   ]
  },
  {
   "cell_type": "code",
   "execution_count": null,
   "id": "9e4daaf4",
   "metadata": {},
   "outputs": [],
   "source": [
    "df_csv = pd.read_csv('data.csv')"
   ]
  },
  {
   "cell_type": "markdown",
   "id": "bcaf950e",
   "metadata": {},
   "source": [
    "## Display the first few rows of the DataFrame"
   ]
  },
  {
   "cell_type": "code",
   "execution_count": null,
   "id": "1cd412a3",
   "metadata": {},
   "outputs": [],
   "source": [
    "df_csv.head()"
   ]
  },
  {
   "cell_type": "markdown",
   "id": "21f53b5a",
   "metadata": {},
   "source": [
    "# Reading Data from Excel"
   ]
  },
  {
   "cell_type": "markdown",
   "id": "044469c8",
   "metadata": {},
   "source": [
    "## Load data from an Excel file"
   ]
  },
  {
   "cell_type": "code",
   "execution_count": null,
   "id": "572f4493",
   "metadata": {},
   "outputs": [],
   "source": [
    "df_excel = pd.read_excel('data.xlsx')"
   ]
  },
  {
   "cell_type": "markdown",
   "id": "088a8e8c",
   "metadata": {},
   "source": [
    "### You can specify a specific sheet using the sheet_name parameter"
   ]
  },
  {
   "cell_type": "code",
   "execution_count": null,
   "id": "cd7e84a8",
   "metadata": {},
   "outputs": [],
   "source": [
    "df_sheet1 = pd.read_excel('data.xlsx', sheet_name='Sheet1')"
   ]
  },
  {
   "cell_type": "markdown",
   "id": "01d87c24",
   "metadata": {},
   "source": [
    "# Display the first few rows of the DataFrame"
   ]
  },
  {
   "cell_type": "code",
   "execution_count": null,
   "id": "645e13c0",
   "metadata": {},
   "outputs": [],
   "source": [
    "df_excel.head()"
   ]
  },
  {
   "cell_type": "markdown",
   "id": "476d838b",
   "metadata": {},
   "source": [
    "# Create a SQLAlchemy engine\n",
    "from sqlalchemy import create_engine\n",
    "engine = create_engine('sqlite:///mydatabase.db')\n",
    "\n",
    "# Load data from a SQL database table\n",
    "query = 'SELECT * FROM mytable'\n",
    "df_sql = pd.read_sql_query(query, engine)\n",
    "\n",
    "# Load data from an HTML table on a webpage\n",
    "url = 'https://example.com/data-table.html'\n",
    "df_html_table = pd.read_html(url)\n",
    "\n",
    "# Load data from a JSON file\n",
    "df_json = pd.read_json('data.json')\n",
    "\n",
    "# Load data from Parquet file\n",
    "df_parquet = pd.read_parquet('data.parquet') try to explain Important Parameters to keep in mind "
   ]
  }
 ],
 "metadata": {
  "kernelspec": {
   "display_name": "Python 3 (ipykernel)",
   "language": "python",
   "name": "python3"
  },
  "language_info": {
   "codemirror_mode": {
    "name": "ipython",
    "version": 3
   },
   "file_extension": ".py",
   "mimetype": "text/x-python",
   "name": "python",
   "nbconvert_exporter": "python",
   "pygments_lexer": "ipython3",
   "version": "3.11.4"
  }
 },
 "nbformat": 4,
 "nbformat_minor": 5
}
